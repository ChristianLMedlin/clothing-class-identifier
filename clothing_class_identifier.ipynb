{
 "cells": [
  {
   "cell_type": "code",
   "execution_count": 16,
   "id": "7aa543e6-fe02-4350-94b2-7fc8aef09e65",
   "metadata": {},
   "outputs": [],
   "source": [
    "import torch\n",
    "from torch import nn\n",
    "from torch.utils.data import DataLoader\n",
    "from torchvision import datasets\n",
    "from torchvision.transforms import ToTensor"
   ]
  },
  {
   "cell_type": "code",
   "execution_count": 17,
   "id": "ef356d6a-e1d5-4a8f-91e4-f0dad4326f53",
   "metadata": {},
   "outputs": [],
   "source": [
    "training_data = datasets.FashionMNIST(\n",
    "    root=\"data\",\n",
    "    train=True,\n",
    "    download=True,\n",
    "    transform=ToTensor(),\n",
    ")\n",
    "testing_data = datasets.FashionMNIST(\n",
    "    root=\"data\",\n",
    "    train=False,\n",
    "    download=True,\n",
    "    transform=ToTensor(),\n",
    ")"
   ]
  },
  {
   "cell_type": "code",
   "execution_count": 18,
   "id": "b3d7b6dc-7964-450d-9767-e48421117816",
   "metadata": {},
   "outputs": [],
   "source": [
    "batch_size = 64\n",
    "training_dataloader = DataLoader(training_data, batch_size=batch_size)\n",
    "testing_dataloader = DataLoader(testing_data, batch_size=batch_size)"
   ]
  },
  {
   "cell_type": "code",
   "execution_count": 19,
   "id": "a96c64e7-b726-4b30-9397-a582c848395d",
   "metadata": {},
   "outputs": [],
   "source": [
    "device = (\n",
    "    \"cuda\" if torch.cuda.is_available()\n",
    "    else \"mps\" if torch.backends.mps.is_available()\n",
    "    else \"cpu\"\n",
    ")\n",
    "\n",
    "class ClothingClassNeuralNetwork(nn.Module):\n",
    "    def __init__(self):\n",
    "        super().__init__()\n",
    "        self.flatten = nn.Flatten()\n",
    "        self.linear_relu_stack = nn.Sequential(\n",
    "            nn.Linear(28*28, 512),\n",
    "            nn.ReLU(),\n",
    "            nn.Linear(512, 512),\n",
    "            nn.ReLU(),\n",
    "            nn.Linear(512, 10)\n",
    "        )\n",
    "\n",
    "    def forward(self, x):\n",
    "        x = self.flatten(x)\n",
    "        return self.linear_relu_stack(x)"
   ]
  },
  {
   "cell_type": "code",
   "execution_count": 20,
   "id": "1180f5e6-d8f7-4c96-a90b-7d20d5b9d963",
   "metadata": {},
   "outputs": [],
   "source": [
    "model = ClothingClassNeuralNetwork().to(device)\n",
    "loss_function = nn.CrossEntropyLoss()\n",
    "optimizer = torch.optim.SGD(model.parameters(), lr=0.001)"
   ]
  },
  {
   "cell_type": "code",
   "execution_count": 21,
   "id": "bae1cd48-83e5-45f6-906f-cb3932f14f3e",
   "metadata": {},
   "outputs": [],
   "source": [
    "def train_model(model, dataloader, loss_function, optimizer):\n",
    "    dataset_size = len(dataloader.dataset)\n",
    "    model.train()\n",
    "\n",
    "    for index, (input_tensor, target) in enumerate(dataloader):\n",
    "        input_tensor, target = input_tensor.to(device), target.to(device)\n",
    "\n",
    "        prediction = model(input_tensor)\n",
    "        loss = loss_function(prediction, target)\n",
    "\n",
    "        loss.backward()\n",
    "        optimizer.step()\n",
    "        optimizer.zero_grad()\n",
    "\n",
    "        if index % 100 == 0:\n",
    "            loss, current = loss.item(), (index + 1) * len(input_tensor)\n",
    "            print(f\"loss: {loss:>7f}  [{current:>5d}/{dataset_size:>5d}]\")"
   ]
  },
  {
   "cell_type": "code",
   "execution_count": null,
   "id": "4e36af4f-2cd1-4f6d-b1f5-0bd2fa8b361d",
   "metadata": {},
   "outputs": [],
   "source": []
  }
 ],
 "metadata": {
  "kernelspec": {
   "display_name": "Python 3 (ipykernel)",
   "language": "python",
   "name": "python3"
  },
  "language_info": {
   "codemirror_mode": {
    "name": "ipython",
    "version": 3
   },
   "file_extension": ".py",
   "mimetype": "text/x-python",
   "name": "python",
   "nbconvert_exporter": "python",
   "pygments_lexer": "ipython3",
   "version": "3.11.3"
  }
 },
 "nbformat": 4,
 "nbformat_minor": 5
}
