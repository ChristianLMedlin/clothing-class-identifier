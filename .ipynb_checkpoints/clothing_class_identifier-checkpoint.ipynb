{
 "cells": [
  {
   "cell_type": "code",
   "execution_count": 1,
   "id": "7aa543e6-fe02-4350-94b2-7fc8aef09e65",
   "metadata": {},
   "outputs": [],
   "source": [
    "import torch\n",
    "from torch import nn\n",
    "from torch.utils.data import DataLoader\n",
    "from torchvision import datasets\n",
    "from torchvision.transforms import ToTensor"
   ]
  },
  {
   "cell_type": "code",
   "execution_count": 2,
   "id": "ef356d6a-e1d5-4a8f-91e4-f0dad4326f53",
   "metadata": {},
   "outputs": [],
   "source": [
    "training_data = datasets.FashionMNIST(\n",
    "    root=\"data\",\n",
    "    train=True,\n",
    "    download=True,\n",
    "    transform=ToTensor(),\n",
    ")\n",
    "testing_data = datasets.FashionMNIST(\n",
    "    root=\"data\",\n",
    "    train=False,\n",
    "    download=True,\n",
    "    transform=ToTensor(),\n",
    ")"
   ]
  },
  {
   "cell_type": "code",
   "execution_count": 3,
   "id": "b3d7b6dc-7964-450d-9767-e48421117816",
   "metadata": {},
   "outputs": [],
   "source": [
    "batch_size = 64\n",
    "training_dataloader = DataLoader(training_data, batch_size=batch_size)\n",
    "testing_dataloader = DataLoader(testing_data, batch_size=batch_size)"
   ]
  },
  {
   "cell_type": "code",
   "execution_count": 4,
   "id": "a96c64e7-b726-4b30-9397-a582c848395d",
   "metadata": {},
   "outputs": [],
   "source": [
    "device = (\n",
    "    \"cuda\" if torch.cuda.is_available()\n",
    "    else \"mps\" if torch.backends.mps.is_available()\n",
    "    else \"cpu\"\n",
    ")\n",
    "\n",
    "class ClothingClassNeuralNetwork(nn.Module):\n",
    "    def __init__(self):\n",
    "        super().__init__()\n",
    "        self.flatten = nn.Flatten()\n",
    "        self.linear_relu_stack = nn.Sequential(\n",
    "            nn.Linear(28*28, 512),\n",
    "            nn.ReLU(),\n",
    "            nn.Linear(512, 512),\n",
    "            nn.ReLU(),\n",
    "            nn.Linear(512, 10)\n",
    "        )\n",
    "\n",
    "    def forward(self, x):\n",
    "        x = self.flatten(x)\n",
    "        return self.linear_relu_stack(x)"
   ]
  },
  {
   "cell_type": "code",
   "execution_count": 5,
   "id": "1180f5e6-d8f7-4c96-a90b-7d20d5b9d963",
   "metadata": {},
   "outputs": [],
   "source": [
    "model = ClothingClassNeuralNetwork().to(device)\n",
    "loss_function = nn.CrossEntropyLoss()\n",
    "optimizer = torch.optim.SGD(model.parameters(), lr=0.001)"
   ]
  },
  {
   "cell_type": "code",
   "execution_count": 6,
   "id": "bae1cd48-83e5-45f6-906f-cb3932f14f3e",
   "metadata": {},
   "outputs": [],
   "source": [
    "def train_model(model, dataloader, loss_function, optimizer):\n",
    "    dataset_size = len(dataloader.dataset)\n",
    "    model.train()\n",
    "\n",
    "    for index, (input_tensor, target) in enumerate(dataloader):\n",
    "        input_tensor, target = input_tensor.to(device), target.to(device)\n",
    "\n",
    "        prediction = model(input_tensor)\n",
    "        loss = loss_function(prediction, target)\n",
    "\n",
    "        loss.backward()\n",
    "        optimizer.step()\n",
    "        optimizer.zero_grad()\n",
    "\n",
    "        if index % 100 == 0:\n",
    "            loss, current = loss.item(), (index + 1) * len(input_tensor)\n",
    "            print(f\"loss: {loss:>7f}  [{current:>5d}/{dataset_size:>5d}]\")"
   ]
  },
  {
   "cell_type": "code",
   "execution_count": 7,
   "id": "4e36af4f-2cd1-4f6d-b1f5-0bd2fa8b361d",
   "metadata": {},
   "outputs": [],
   "source": [
    "def test_model(model, dataloader, loss_function):\n",
    "    size = len(dataloader.dataset)\n",
    "    batch_length = len(dataloader)\n",
    "    loss, correct = 0, 0\n",
    "    model.eval()\n",
    "    with torch.no_grad():\n",
    "        for input_tensor, target in dataloader:\n",
    "            input_tensor, target = input_tensor.to(device), target.to(device)\n",
    "            prediction = model(input_tensor)\n",
    "            loss += loss_function(prediction, target).item()\n",
    "            correct += (prediction.argmax(1) == target).type(torch.float).sum().item()\n",
    "    loss /= batch_length\n",
    "    correct /= size\n",
    "    print(f\"Test Error: \\n Accuracy: {(100*correct):>0.1f}%, Avg loss: {loss:>8f} \\n\")\n",
    "    "
   ]
  },
  {
   "cell_type": "code",
   "execution_count": 12,
   "id": "e2c4d540-e5c7-4a14-9cdc-59e949f6dc4f",
   "metadata": {
    "scrolled": true
   },
   "outputs": [
    {
     "name": "stdout",
     "output_type": "stream",
     "text": [
      "loss: 0.359212  [   64/60000]\n",
      "loss: 0.487420  [ 6464/60000]\n",
      "loss: 0.307069  [12864/60000]\n",
      "loss: 0.542860  [19264/60000]\n",
      "loss: 0.461149  [25664/60000]\n",
      "loss: 0.460182  [32064/60000]\n",
      "loss: 0.489269  [38464/60000]\n",
      "loss: 0.653409  [44864/60000]\n",
      "loss: 0.609227  [51264/60000]\n",
      "loss: 0.434209  [57664/60000]\n",
      "Test Error: \n",
      " Accuracy: 82.7%, Avg loss: 0.487960 \n",
      "\n",
      "loss: 0.355776  [   64/60000]\n",
      "loss: 0.485412  [ 6464/60000]\n",
      "loss: 0.304955  [12864/60000]\n",
      "loss: 0.540105  [19264/60000]\n",
      "loss: 0.458024  [25664/60000]\n",
      "loss: 0.457664  [32064/60000]\n",
      "loss: 0.487271  [38464/60000]\n",
      "loss: 0.651906  [44864/60000]\n",
      "loss: 0.607208  [51264/60000]\n",
      "loss: 0.431621  [57664/60000]\n",
      "Test Error: \n",
      " Accuracy: 82.7%, Avg loss: 0.486209 \n",
      "\n",
      "loss: 0.352460  [   64/60000]\n",
      "loss: 0.483493  [ 6464/60000]\n",
      "loss: 0.302888  [12864/60000]\n",
      "loss: 0.537444  [19264/60000]\n",
      "loss: 0.455025  [25664/60000]\n",
      "loss: 0.455159  [32064/60000]\n",
      "loss: 0.485332  [38464/60000]\n",
      "loss: 0.650301  [44864/60000]\n",
      "loss: 0.605272  [51264/60000]\n",
      "loss: 0.429190  [57664/60000]\n",
      "Test Error: \n",
      " Accuracy: 82.8%, Avg loss: 0.484519 \n",
      "\n",
      "loss: 0.349232  [   64/60000]\n",
      "loss: 0.481641  [ 6464/60000]\n",
      "loss: 0.300908  [12864/60000]\n",
      "loss: 0.534905  [19264/60000]\n",
      "loss: 0.452086  [25664/60000]\n",
      "loss: 0.452802  [32064/60000]\n",
      "loss: 0.483434  [38464/60000]\n",
      "loss: 0.648620  [44864/60000]\n",
      "loss: 0.603319  [51264/60000]\n",
      "loss: 0.426868  [57664/60000]\n",
      "Test Error: \n",
      " Accuracy: 82.8%, Avg loss: 0.482888 \n",
      "\n",
      "loss: 0.346056  [   64/60000]\n",
      "loss: 0.479829  [ 6464/60000]\n",
      "loss: 0.299004  [12864/60000]\n",
      "loss: 0.532458  [19264/60000]\n",
      "loss: 0.449234  [25664/60000]\n",
      "loss: 0.450601  [32064/60000]\n",
      "loss: 0.481582  [38464/60000]\n",
      "loss: 0.646853  [44864/60000]\n",
      "loss: 0.601424  [51264/60000]\n",
      "loss: 0.424701  [57664/60000]\n",
      "Test Error: \n",
      " Accuracy: 82.9%, Avg loss: 0.481312 \n",
      "\n",
      "Complete.\n"
     ]
    }
   ],
   "source": [
    "epochs = 5\n",
    "for epoch_iteration in range(epochs):\n",
    "    train_model(model, training_dataloader, loss_function, optimizer)\n",
    "    test_model(model, testing_dataloader, loss_function)\n",
    "print(\"Complete.\")"
   ]
  },
  {
   "cell_type": "code",
   "execution_count": null,
   "id": "a1a7cdf5-c76e-4cee-9440-32dfea38a587",
   "metadata": {},
   "outputs": [],
   "source": []
  }
 ],
 "metadata": {
  "kernelspec": {
   "display_name": "Python 3 (ipykernel)",
   "language": "python",
   "name": "python3"
  },
  "language_info": {
   "codemirror_mode": {
    "name": "ipython",
    "version": 3
   },
   "file_extension": ".py",
   "mimetype": "text/x-python",
   "name": "python",
   "nbconvert_exporter": "python",
   "pygments_lexer": "ipython3",
   "version": "3.11.3"
  }
 },
 "nbformat": 4,
 "nbformat_minor": 5
}
